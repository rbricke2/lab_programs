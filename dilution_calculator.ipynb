{
 "cells": [
  {
   "cell_type": "code",
   "execution_count": 1,
   "id": "81a96df1",
   "metadata": {},
   "outputs": [
    {
     "name": "stdout",
     "output_type": "stream",
     "text": [
      "What is the stock concentration?\n",
      "300\n",
      "What is the desired concentration (measured in the same units as stock concentration)?\n",
      "30\n",
      "What is the current total reaction volume?\n",
      "19.88\n",
      "Do you want to use (1) the current reaction volume or (2) a desired reaction volume?\n",
      "1\n",
      "Take 2.209 of stock (measured in the same units as the reaction volume provided).\n"
     ]
    }
   ],
   "source": [
    "def dilution_eq(M_1, V_2, M_2):\n",
    "    return (V_2*M_2) / M_1\n",
    "\n",
    "def adjust_take_vol(stock_conc, reac_vol, desired_conc):\n",
    "    tolerance = 1e-3\n",
    "    vol_take  = round(dilution_eq(stock_conc, reac_vol, desired_conc), 3)\n",
    "\n",
    "    while True:\n",
    "        total_vol = vol_take + reac_vol\n",
    "        act_vol_take = dilution_eq(stock_conc, total_vol, desired_conc)\n",
    "        if ( abs(act_vol_take - vol_take) <= tolerance ):\n",
    "            break\n",
    "        vol_take = round(act_vol_take, 3)\n",
    "    return vol_take\n",
    "\n",
    "print('What is the stock concentration?')\n",
    "stock_conc = float(input())\n",
    "print('What is the desired concentration (measured in the same units as stock concentration)?')\n",
    "desired_conc = float(input())\n",
    "print('What is the current total reaction volume?')\n",
    "reac_vol = float(input())\n",
    "\n",
    "print('Do you want to use (1) the current reaction volume or (2) a desired reaction volume?')\n",
    "method = int(input())\n",
    "\n",
    "if (method == 1):\n",
    "    vol_take = adjust_take_vol(stock_conc, reac_vol, desired_conc)\n",
    "    print('Take ' + str(vol_take) + ' of stock (measured in the same units as the reaction volume provided).')\n",
    "\n",
    "else:\n",
    "    print('What is the desired volume?')\n",
    "    desired_vol = float(input())\n",
    "    \n",
    "    vol_take = round(dilution_eq(stock_conc, desired_vol, desired_conc), 3)\n",
    "    \n",
    "    ddH2O = desired_vol - (reac_vol + vol_take)\n",
    "    \n",
    "    if (ddH2O < 0):\n",
    "        ddH2O = 0\n",
    "        vol_take = adjust_take_vol(stock_conc, reac_vol, desired_conc)\n",
    "        print('More than desired reaction volume is required.')\n",
    "    \n",
    "    print('Take ' + str(vol_take) + ' of stock and ' + str(ddH2O) + ' of dd H2O (measured in the same units as the reaction volume provided).')"
   ]
  },
  {
   "cell_type": "code",
   "execution_count": null,
   "id": "3311a68d",
   "metadata": {},
   "outputs": [],
   "source": []
  }
 ],
 "metadata": {
  "kernelspec": {
   "display_name": "Python 3 (ipykernel)",
   "language": "python",
   "name": "python3"
  },
  "language_info": {
   "codemirror_mode": {
    "name": "ipython",
    "version": 3
   },
   "file_extension": ".py",
   "mimetype": "text/x-python",
   "name": "python",
   "nbconvert_exporter": "python",
   "pygments_lexer": "ipython3",
   "version": "3.10.12"
  }
 },
 "nbformat": 4,
 "nbformat_minor": 5
}
