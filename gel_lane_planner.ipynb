{
 "cells": [
  {
   "cell_type": "code",
   "execution_count": 14,
   "id": "9c276bee",
   "metadata": {},
   "outputs": [
    {
     "name": "stdout",
     "output_type": "stream",
     "text": [
      "Enter the smallest length:\n",
      "67\n",
      "Enter the largest length:\n",
      "105\n"
     ]
    }
   ],
   "source": [
    "print('Enter the smallest length:')\n",
    "smallest_length = int(input())\n",
    "print('Enter the largest length:')\n",
    "largest_length = int(input())"
   ]
  },
  {
   "cell_type": "code",
   "execution_count": 15,
   "id": "cf51a4ba",
   "metadata": {},
   "outputs": [
    {
     "name": "stdout",
     "output_type": "stream",
     "text": [
      "Enter maximum number of DNAs per lane:\n",
      "5\n"
     ]
    }
   ],
   "source": [
    "print('Enter maximum number of DNAs per lane:')\n",
    "max_per_lane = int(input())"
   ]
  },
  {
   "cell_type": "code",
   "execution_count": 17,
   "id": "f7a9dc9d",
   "metadata": {},
   "outputs": [
    {
     "name": "stdout",
     "output_type": "stream",
     "text": [
      "Enter length differences between DNAs in lanes:\n",
      "4\n"
     ]
    }
   ],
   "source": [
    "print('Enter length differences between DNAs in lanes:')\n",
    "len_diff = int(input())"
   ]
  },
  {
   "cell_type": "code",
   "execution_count": 18,
   "id": "d15d3821",
   "metadata": {},
   "outputs": [],
   "source": [
    "scaffold_lengths = list(range(smallest_length, largest_length+1))"
   ]
  },
  {
   "cell_type": "code",
   "execution_count": 19,
   "id": "968fca6d",
   "metadata": {},
   "outputs": [],
   "source": [
    "pools = [[scaffold_lengths[0]]]\n",
    "for i in range(1, len(scaffold_lengths)):\n",
    "    found_pool = False\n",
    "    for j in range(len(pools)):\n",
    "        if (abs(pools[j][-1] - scaffold_lengths[i]) == len_diff) and (len(pools[j]) != max_per_lane):\n",
    "            pools[j].append(scaffold_lengths[i])\n",
    "            found_pool = True\n",
    "            break\n",
    "    if not found_pool:\n",
    "        pools.append([scaffold_lengths[i]])"
   ]
  },
  {
   "cell_type": "code",
   "execution_count": 20,
   "id": "02323576",
   "metadata": {},
   "outputs": [
    {
     "name": "stdout",
     "output_type": "stream",
     "text": [
      "Pools:\n",
      "\n",
      "A [67, 71, 75, 79, 83]\n",
      "B [68, 72, 76, 80, 84]\n",
      "C [69, 73, 77, 81, 85]\n",
      "D [70, 74, 78, 82, 86]\n",
      "E [87, 91, 95, 99, 103]\n",
      "F [88, 92, 96, 100, 104]\n",
      "G [89, 93, 97, 101, 105]\n",
      "H [90, 94, 98, 102]\n"
     ]
    }
   ],
   "source": [
    "print('Pools:\\n')\n",
    "pool = 'A'\n",
    "for i in range(len(pools)):\n",
    "    print(pool, pools[i])\n",
    "    pool = chr(ord(pool)+1)"
   ]
  },
  {
   "cell_type": "code",
   "execution_count": null,
   "id": "937b9c19",
   "metadata": {},
   "outputs": [],
   "source": []
  }
 ],
 "metadata": {
  "kernelspec": {
   "display_name": "Python 3 (ipykernel)",
   "language": "python",
   "name": "python3"
  },
  "language_info": {
   "codemirror_mode": {
    "name": "ipython",
    "version": 3
   },
   "file_extension": ".py",
   "mimetype": "text/x-python",
   "name": "python",
   "nbconvert_exporter": "python",
   "pygments_lexer": "ipython3",
   "version": "3.10.12"
  }
 },
 "nbformat": 4,
 "nbformat_minor": 5
}
