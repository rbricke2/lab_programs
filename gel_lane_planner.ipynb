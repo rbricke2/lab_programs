{
 "cells": [
  {
   "cell_type": "code",
   "execution_count": 1,
   "id": "9c276bee",
   "metadata": {},
   "outputs": [
    {
     "name": "stdout",
     "output_type": "stream",
     "text": [
      "Enter the smallest length:\n",
      "41\n",
      "Enter the largest length:\n",
      "72\n"
     ]
    }
   ],
   "source": [
    "print('Enter the smallest length:')\n",
    "smallest_length = int(input())\n",
    "print('Enter the largest length:')\n",
    "largest_length = int(input())"
   ]
  },
  {
   "cell_type": "code",
   "execution_count": 2,
   "id": "cf51a4ba",
   "metadata": {},
   "outputs": [
    {
     "name": "stdout",
     "output_type": "stream",
     "text": [
      "Enter maximum number of DNAs per lane:\n",
      "4\n"
     ]
    }
   ],
   "source": [
    "print('Enter maximum number of DNAs per lane:')\n",
    "max_per_lane = int(input())"
   ]
  },
  {
   "cell_type": "code",
   "execution_count": 3,
   "id": "f7a9dc9d",
   "metadata": {},
   "outputs": [
    {
     "name": "stdout",
     "output_type": "stream",
     "text": [
      "Enter length differences between DNAs in lanes:\n",
      "4\n"
     ]
    }
   ],
   "source": [
    "print('Enter length differences between DNAs in lanes:')\n",
    "len_diff = int(input())"
   ]
  },
  {
   "cell_type": "code",
   "execution_count": 4,
   "id": "d15d3821",
   "metadata": {},
   "outputs": [],
   "source": [
    "scaffold_lengths = list(range(smallest_length, largest_length+1))"
   ]
  },
  {
   "cell_type": "code",
   "execution_count": 5,
   "id": "968fca6d",
   "metadata": {},
   "outputs": [],
   "source": [
    "pools = [[scaffold_lengths[0]]]\n",
    "for i in range(1, len(scaffold_lengths)):\n",
    "    found_pool = False\n",
    "    for j in range(len(pools)):\n",
    "        if (abs(pools[j][-1] - scaffold_lengths[i]) == len_diff) and (len(pools[j]) != max_per_lane):\n",
    "            pools[j].append(scaffold_lengths[i])\n",
    "            found_pool = True\n",
    "            break\n",
    "    if not found_pool:\n",
    "        pools.append([scaffold_lengths[i]])"
   ]
  },
  {
   "cell_type": "code",
   "execution_count": 6,
   "id": "ab806583",
   "metadata": {},
   "outputs": [],
   "source": [
    "from itertools import combinations_with_replacement\n",
    "\n",
    "def getDimers(pool):\n",
    "    dimers = set() # set => no duplicates\n",
    "    for t in combinations_with_replacement(pool, 2):\n",
    "        dimers.add(sum(t))\n",
    "    return sorted(dimers)"
   ]
  },
  {
   "cell_type": "code",
   "execution_count": 7,
   "id": "02323576",
   "metadata": {},
   "outputs": [
    {
     "name": "stdout",
     "output_type": "stream",
     "text": [
      "Pools:\n",
      "\n",
      "A [41, 45, 49, 53] ; dimers:  [82, 86, 90, 94, 98, 102, 106]\n",
      "B [42, 46, 50, 54] ; dimers:  [84, 88, 92, 96, 100, 104, 108]\n",
      "C [43, 47, 51, 55] ; dimers:  [86, 90, 94, 98, 102, 106, 110]\n",
      "D [44, 48, 52, 56] ; dimers:  [88, 92, 96, 100, 104, 108, 112]\n",
      "E [57, 61, 65, 69] ; dimers:  [114, 118, 122, 126, 130, 134, 138]\n",
      "F [58, 62, 66, 70] ; dimers:  [116, 120, 124, 128, 132, 136, 140]\n",
      "G [59, 63, 67, 71] ; dimers:  [118, 122, 126, 130, 134, 138, 142]\n",
      "H [60, 64, 68, 72] ; dimers:  [120, 124, 128, 132, 136, 140, 144]\n"
     ]
    }
   ],
   "source": [
    "print('Pools:\\n')\n",
    "pool = 'A'\n",
    "for i in range(len(pools)):\n",
    "    dimers = getDimers(pools[i])\n",
    "    print(pool, pools[i], str(\"; dimers: \"), dimers)\n",
    "    pool = chr(ord(pool)+1)"
   ]
  },
  {
   "cell_type": "code",
   "execution_count": null,
   "id": "757fcb6b",
   "metadata": {},
   "outputs": [],
   "source": []
  }
 ],
 "metadata": {
  "kernelspec": {
   "display_name": "Python 3 (ipykernel)",
   "language": "python",
   "name": "python3"
  },
  "language_info": {
   "codemirror_mode": {
    "name": "ipython",
    "version": 3
   },
   "file_extension": ".py",
   "mimetype": "text/x-python",
   "name": "python",
   "nbconvert_exporter": "python",
   "pygments_lexer": "ipython3",
   "version": "3.10.12"
  }
 },
 "nbformat": 4,
 "nbformat_minor": 5
}
