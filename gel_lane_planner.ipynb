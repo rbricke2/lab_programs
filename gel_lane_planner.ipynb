{
 "cells": [
  {
   "cell_type": "code",
   "execution_count": 8,
   "id": "9c276bee",
   "metadata": {},
   "outputs": [
    {
     "name": "stdout",
     "output_type": "stream",
     "text": [
      "Enter the smallest length:\n",
      "46\n",
      "Enter the largest length:\n",
      "105\n"
     ]
    }
   ],
   "source": [
    "print('Enter the smallest length:')\n",
    "smallest_length = int(input())\n",
    "print('Enter the largest length:')\n",
    "largest_length = int(input())"
   ]
  },
  {
   "cell_type": "code",
   "execution_count": 9,
   "id": "cf51a4ba",
   "metadata": {},
   "outputs": [
    {
     "name": "stdout",
     "output_type": "stream",
     "text": [
      "Enter maximum number of DNAs per lane:\n",
      "5\n"
     ]
    }
   ],
   "source": [
    "print('Enter maximum number of DNAs per lane:')\n",
    "max_per_lane = int(input())"
   ]
  },
  {
   "cell_type": "code",
   "execution_count": 10,
   "id": "f7a9dc9d",
   "metadata": {},
   "outputs": [
    {
     "name": "stdout",
     "output_type": "stream",
     "text": [
      "Enter length differences between DNAs in lanes:\n",
      "4\n"
     ]
    }
   ],
   "source": [
    "print('Enter length differences between DNAs in lanes:')\n",
    "len_diff = int(input())"
   ]
  },
  {
   "cell_type": "code",
   "execution_count": 11,
   "id": "d15d3821",
   "metadata": {},
   "outputs": [],
   "source": [
    "scaffold_lengths = list(range(smallest_length, largest_length+1))"
   ]
  },
  {
   "cell_type": "code",
   "execution_count": 12,
   "id": "968fca6d",
   "metadata": {},
   "outputs": [],
   "source": [
    "pools = [[scaffold_lengths[0]]]\n",
    "for i in range(1, len(scaffold_lengths)):\n",
    "    found_pool = False\n",
    "    for j in range(len(pools)):\n",
    "        if (abs(pools[j][-1] - scaffold_lengths[i]) == len_diff) and (len(pools[j]) != max_per_lane):\n",
    "            pools[j].append(scaffold_lengths[i])\n",
    "            found_pool = True\n",
    "            break\n",
    "    if not found_pool:\n",
    "        pools.append([scaffold_lengths[i]])"
   ]
  },
  {
   "cell_type": "code",
   "execution_count": 13,
   "id": "ab806583",
   "metadata": {},
   "outputs": [],
   "source": [
    "from itertools import combinations_with_replacement\n",
    "\n",
    "def getDimers(pool):\n",
    "    dimers = []\n",
    "    for t in combinations_with_replacement(pool, 2):\n",
    "        dimers.append(sum(t))\n",
    "    return dimers"
   ]
  },
  {
   "cell_type": "code",
   "execution_count": 14,
   "id": "02323576",
   "metadata": {},
   "outputs": [
    {
     "name": "stdout",
     "output_type": "stream",
     "text": [
      "Pools:\n",
      "\n",
      "A [46, 50, 54, 58, 62] ; dimers:  [92, 96, 100, 104, 108, 100, 104, 108, 112, 108, 112, 116, 116, 120, 124]\n",
      "B [47, 51, 55, 59, 63] ; dimers:  [94, 98, 102, 106, 110, 102, 106, 110, 114, 110, 114, 118, 118, 122, 126]\n",
      "C [48, 52, 56, 60, 64] ; dimers:  [96, 100, 104, 108, 112, 104, 108, 112, 116, 112, 116, 120, 120, 124, 128]\n",
      "D [49, 53, 57, 61, 65] ; dimers:  [98, 102, 106, 110, 114, 106, 110, 114, 118, 114, 118, 122, 122, 126, 130]\n",
      "E [66, 70, 74, 78, 82] ; dimers:  [132, 136, 140, 144, 148, 140, 144, 148, 152, 148, 152, 156, 156, 160, 164]\n",
      "F [67, 71, 75, 79, 83] ; dimers:  [134, 138, 142, 146, 150, 142, 146, 150, 154, 150, 154, 158, 158, 162, 166]\n",
      "G [68, 72, 76, 80, 84] ; dimers:  [136, 140, 144, 148, 152, 144, 148, 152, 156, 152, 156, 160, 160, 164, 168]\n",
      "H [69, 73, 77, 81, 85] ; dimers:  [138, 142, 146, 150, 154, 146, 150, 154, 158, 154, 158, 162, 162, 166, 170]\n",
      "I [86, 90, 94, 98, 102] ; dimers:  [172, 176, 180, 184, 188, 180, 184, 188, 192, 188, 192, 196, 196, 200, 204]\n",
      "J [87, 91, 95, 99, 103] ; dimers:  [174, 178, 182, 186, 190, 182, 186, 190, 194, 190, 194, 198, 198, 202, 206]\n",
      "K [88, 92, 96, 100, 104] ; dimers:  [176, 180, 184, 188, 192, 184, 188, 192, 196, 192, 196, 200, 200, 204, 208]\n",
      "L [89, 93, 97, 101, 105] ; dimers:  [178, 182, 186, 190, 194, 186, 190, 194, 198, 194, 198, 202, 202, 206, 210]\n"
     ]
    }
   ],
   "source": [
    "print('Pools:\\n')\n",
    "pool = 'A'\n",
    "for i in range(len(pools)):\n",
    "    dimers = getDimers(pools[i])\n",
    "    print(pool, pools[i], str(\"; dimers: \"), dimers)\n",
    "    pool = chr(ord(pool)+1)"
   ]
  },
  {
   "cell_type": "code",
   "execution_count": null,
   "id": "757fcb6b",
   "metadata": {},
   "outputs": [],
   "source": []
  }
 ],
 "metadata": {
  "kernelspec": {
   "display_name": "Python 3 (ipykernel)",
   "language": "python",
   "name": "python3"
  },
  "language_info": {
   "codemirror_mode": {
    "name": "ipython",
    "version": 3
   },
   "file_extension": ".py",
   "mimetype": "text/x-python",
   "name": "python",
   "nbconvert_exporter": "python",
   "pygments_lexer": "ipython3",
   "version": "3.10.12"
  }
 },
 "nbformat": 4,
 "nbformat_minor": 5
}
