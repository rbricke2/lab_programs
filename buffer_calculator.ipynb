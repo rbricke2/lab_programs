{
 "cells": [
  {
   "cell_type": "code",
   "execution_count": 2,
   "id": "3e5e9bad",
   "metadata": {},
   "outputs": [
    {
     "name": "stdout",
     "output_type": "stream",
     "text": [
      "What is the stock concentration?\n",
      "300\n",
      "What is the current total reaction volume?\n",
      "20\n",
      "What is the desired concentration?\n",
      "30\n",
      "Take 2.22 of buffer (measured in the same units as the reaction volume provided).\n"
     ]
    }
   ],
   "source": [
    "tolerance = 1e-2\n",
    "\n",
    "print('What is the stock concentration?')\n",
    "stock_conc = float(input())\n",
    "print('What is the current total reaction volume?')\n",
    "reac_vol = float(input())\n",
    "print('What is the desired concentration?')\n",
    "desired_conc = float(input())\n",
    "\n",
    "def dilution_eq(M_1, V_2, M_2):\n",
    "    return (V_2*M_2) / M_1\n",
    "\n",
    "vol_take = round(dilution_eq(stock_conc, reac_vol, desired_conc), 2)\n",
    "\n",
    "while True:\n",
    "    total_vol = vol_take + reac_vol\n",
    "    act_vol_take = dilution_eq(stock_conc, total_vol, desired_conc)\n",
    "    if ( abs(act_vol_take - vol_take) <= tolerance ):\n",
    "        break\n",
    "    vol_take = round(act_vol_take, 2)\n",
    "\n",
    "print('Take ' + str(vol_take) + ' of chemical (measured in the same units as the reaction volume provided).')"
   ]
  },
  {
   "cell_type": "code",
   "execution_count": null,
   "id": "482deca0",
   "metadata": {},
   "outputs": [],
   "source": []
  }
 ],
 "metadata": {
  "kernelspec": {
   "display_name": "Python 3 (ipykernel)",
   "language": "python",
   "name": "python3"
  },
  "language_info": {
   "codemirror_mode": {
    "name": "ipython",
    "version": 3
   },
   "file_extension": ".py",
   "mimetype": "text/x-python",
   "name": "python",
   "nbconvert_exporter": "python",
   "pygments_lexer": "ipython3",
   "version": "3.10.12"
  }
 },
 "nbformat": 4,
 "nbformat_minor": 5
}
